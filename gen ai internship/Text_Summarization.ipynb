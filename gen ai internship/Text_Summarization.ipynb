{
  "nbformat": 4,
  "nbformat_minor": 0,
  "metadata": {
    "colab": {
      "provenance": []
    },
    "kernelspec": {
      "name": "python3",
      "display_name": "Python 3"
    },
    "language_info": {
      "name": "python"
    }
  },
  "cells": [
    {
      "cell_type": "code",
      "execution_count": null,
      "metadata": {
        "id": "4fN-x_zQGxbP"
      },
      "outputs": [],
      "source": [
        "import nltk\n",
        "from nltk.tokenize import sent_tokenize, word_tokenize\n",
        "from nltk.corpus import stopwords\n",
        "from collections import Counter\n",
        "import heapq"
      ]
    },
    {
      "cell_type": "code",
      "source": [
        "nltk.download('punkt_tab')\n",
        "nltk.download('punkt')\n",
        "nltk.download('stopwords')"
      ],
      "metadata": {
        "colab": {
          "base_uri": "https://localhost:8080/"
        },
        "id": "2xSVGWWbHAGg",
        "outputId": "7e325c7d-7ac6-4817-e7e1-2f3f23274f2b"
      },
      "execution_count": null,
      "outputs": [
        {
          "output_type": "stream",
          "name": "stderr",
          "text": [
            "[nltk_data] Downloading package punkt_tab to /root/nltk_data...\n",
            "[nltk_data]   Package punkt_tab is already up-to-date!\n",
            "[nltk_data] Downloading package punkt to /root/nltk_data...\n",
            "[nltk_data]   Package punkt is already up-to-date!\n",
            "[nltk_data] Downloading package stopwords to /root/nltk_data...\n",
            "[nltk_data]   Package stopwords is already up-to-date!\n"
          ]
        },
        {
          "output_type": "execute_result",
          "data": {
            "text/plain": [
              "True"
            ]
          },
          "metadata": {},
          "execution_count": 17
        }
      ]
    },
    {
      "cell_type": "code",
      "source": [
        "def text_summarizer(text,num_sentences=3):\n",
        "  sentences=sent_tokenize(text) #tokenize text into sentences\n",
        "\n",
        "  stop_words=set(stopwords.words(\"english\")) #tokenize words and remove stop words\n",
        "  words=word_tokenize(text.lower())\n",
        "  cleaned_words = [word for word in words if word.isalnum() and word not in stop_words]\n",
        "\n",
        "  word_frequencies=Counter(cleaned_words) #calculate word frequency\n",
        "  max_freq=max(word_frequencies.values())\n",
        "  for word in word_frequencies:\n",
        "    word_frequencies[word]=word_frequencies[word]/max_freq\n",
        "\n",
        "  sentence_scores={}\n",
        "  for sentence in sentences:\n",
        "    for word in word_tokenize(sentence.lower()):\n",
        "      if word in word_frequencies:\n",
        "        sentence_scores[sentence]=sentence_scores.get(sentence,0) + word_frequencies[word]\n",
        "\n",
        "  summary_sentences=heapq.nlargest(num_sentences,sentence_scores,key=sentence_scores.get)\n",
        "  summary=' '.join(summary_sentences)\n",
        "  return summary"
      ],
      "metadata": {
        "id": "zOIgOpu2HBxf"
      },
      "execution_count": null,
      "outputs": []
    },
    {
      "cell_type": "code",
      "source": [
        "text=\"\"\"Artificial Intelligence (AI) is transforming the way we live and work, influencing industries ranging from healthcare to entertainment. At its core, AI refers to systems and machines that mimic human intelligence to perform tasks and can iteratively improve themselves based on the information they collect. One of the key branches of AI is Machine Learning (ML), which enables machines to learn from data and make predictions or decisions without being explicitly programmed. Within Machine Learning, Deep Learning has emerged as a powerful technique, using neural networks with multiple layers to analyze complex data patterns. Natural Language Processing (NLP), another important branch of AI, focuses on enabling machines to understand and process human language. NLP is used in numerous applications, such as virtual assistants, machine translation, sentiment analysis, and chatbots. These applications aim to make communication between humans and computers as seamless as possible. Similarly, Computer Vision, a subfield of AI, focuses on enabling machines to interpret and analyze visual data from the world. This technology powers applications like facial recognition, object detection, and autonomous vehicles. The impact of AI on healthcare is particularly significant. With AI, medical professionals can analyze complex datasets to identify patterns and predict outcomes more accurately. AI-powered diagnostic tools assist doctors in identifying diseases at an early stage, while predictive models help in personalizing treatment plans. Additionally, robotics powered by AI is being used for surgery, rehabilitation, and elder care. In the business world, AI has revolutionized operations by automating repetitive tasks, enhancing customer service, and improving decision-making processes. AI-driven recommendation systems are used by companies like Amazon and Netflix to offer personalized suggestions, while predictive analytics helps organizations forecast trends and make data-driven decisions. Financial institutions use AI for fraud detection and risk management, significantly improving efficiency and accuracy. Despite its numerous benefits, AI also raises ethical and societal concerns. Issues such as data privacy, algorithmic bias, and the potential displacement of jobs are critical areas that need to be addressed. Governments and organizations worldwide are working to develop regulations and frameworks to ensure that AI is used responsibly and equitably. As AI continues to evolve, it holds the promise of transforming industries and solving some of humanity's most pressing challenges, from climate change to global health crises.\"\"\""
      ],
      "metadata": {
        "id": "1fxLaBdUSyqe"
      },
      "execution_count": null,
      "outputs": []
    },
    {
      "cell_type": "code",
      "source": [
        "summary=text_summarizer(text,num_sentences=2)\n",
        "print(\"Original Text:\\n\",text)\n",
        "print(\"\\nGenerated Summary:\\n\",summary)"
      ],
      "metadata": {
        "colab": {
          "base_uri": "https://localhost:8080/"
        },
        "id": "_4EDxCglTno8",
        "outputId": "8f084817-18d4-4da0-e31f-74a4139fa083"
      },
      "execution_count": null,
      "outputs": [
        {
          "output_type": "stream",
          "name": "stdout",
          "text": [
            "Original Text:\n",
            " Artificial Intelligence (AI) is transforming the way we live and work, influencing industries ranging from healthcare to entertainment. At its core, AI refers to systems and machines that mimic human intelligence to perform tasks and can iteratively improve themselves based on the information they collect. One of the key branches of AI is Machine Learning (ML), which enables machines to learn from data and make predictions or decisions without being explicitly programmed. Within Machine Learning, Deep Learning has emerged as a powerful technique, using neural networks with multiple layers to analyze complex data patterns. Natural Language Processing (NLP), another important branch of AI, focuses on enabling machines to understand and process human language. NLP is used in numerous applications, such as virtual assistants, machine translation, sentiment analysis, and chatbots. These applications aim to make communication between humans and computers as seamless as possible. Similarly, Computer Vision, a subfield of AI, focuses on enabling machines to interpret and analyze visual data from the world. This technology powers applications like facial recognition, object detection, and autonomous vehicles. The impact of AI on healthcare is particularly significant. With AI, medical professionals can analyze complex datasets to identify patterns and predict outcomes more accurately. AI-powered diagnostic tools assist doctors in identifying diseases at an early stage, while predictive models help in personalizing treatment plans. Additionally, robotics powered by AI is being used for surgery, rehabilitation, and elder care. In the business world, AI has revolutionized operations by automating repetitive tasks, enhancing customer service, and improving decision-making processes. AI-driven recommendation systems are used by companies like Amazon and Netflix to offer personalized suggestions, while predictive analytics helps organizations forecast trends and make data-driven decisions. Financial institutions use AI for fraud detection and risk management, significantly improving efficiency and accuracy. Despite its numerous benefits, AI also raises ethical and societal concerns. Issues such as data privacy, algorithmic bias, and the potential displacement of jobs are critical areas that need to be addressed. Governments and organizations worldwide are working to develop regulations and frameworks to ensure that AI is used responsibly and equitably. As AI continues to evolve, it holds the promise of transforming industries and solving some of humanity's most pressing challenges, from climate change to global health crises.\n",
            "\n",
            "Generated Summary:\n",
            " One of the key branches of AI is Machine Learning (ML), which enables machines to learn from data and make predictions or decisions without being explicitly programmed. Similarly, Computer Vision, a subfield of AI, focuses on enabling machines to interpret and analyze visual data from the world.\n"
          ]
        }
      ]
    }
  ]
}